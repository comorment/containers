{
 "cells": [
  {
   "cell_type": "markdown",
   "metadata": {},
   "source": [
    "# ldpred2_simulations\n",
    "Synthetic data generation for LDPred2 analysis using the SIMU library with known underlying heritability, etc."
   ]
  },
  {
   "cell_type": "code",
   "execution_count": 27,
   "metadata": {},
   "outputs": [],
   "source": [
    "import pandas as pd\n",
    "import numpy as np\n",
    "\n",
    "bfile = '/home/oleksanf/github/comorment/magma/reference/magma/g1000_eur/g1000_eur'\n",
    "df=pd.read_csv(f'{bfile}.bim', header=None, names='CHR SNP GP BP A1 A2'.split(), sep='\\t')\n",
    "df=df[df['CHR'].isin([21, 22])].copy()\n",
    "hm3=pd.read_csv('/home/oleksanf/github/comorment/containers/reference/hapmap3/w_hm3.justrs', header=None, names=['SNP'])\n",
    "df_hm3 = pd.merge(df, hm3)\n",
    "\n",
    "# random 80% subset of hm3 plust 2000 randomly selected SNPs\n",
    "# one of these will be used as a genotype panel\n",
    "# the other subset will be used for GWAS summary statistics\n",
    "for i in [1, 2]:\n",
    "    pd.concat([df_hm3.sample(int(len(df_hm3) * 0.8)), df.sample(2000) ]).drop_duplicates().sort_values(['CHR', 'BP'])[['SNP']].to_csv(f'hm3_rand_v{i}.justrs', index=False, header=None, sep='\\t')\n"
   ]
  },
  {
   "cell_type": "code",
   "execution_count": 32,
   "metadata": {},
   "outputs": [
    {
     "name": "stdout",
     "output_type": "stream",
     "text": [
      "PLINK v1.90b6.9 64-bit (4 Mar 2019)            www.cog-genomics.org/plink/1.9/\n",
      "(C) 2005-2019 Shaun Purcell, Christopher Chang   GNU General Public License v3\n",
      "Logging to g1000_eur_chr21to22_hm3rnd1.log.\n",
      "Options in effect:\n",
      "  --bfile /home/oleksanf/github/comorment/magma/reference/magma/g1000_eur/g1000_eur\n",
      "  --extract hm3_rand_v1.justrs\n",
      "  --make-bed\n",
      "  --out g1000_eur_chr21to22_hm3rnd1\n",
      "\n",
      "128694 MB RAM detected; reserving 64347 MB for main workspace.\n",
      "22665064 variants loaded from .bim file.\n",
      "503 people (240 males, 263 females) loaded from .fam.\n",
      "--extract: 29882 variants remaining.\n",
      "Using 1 thread (no multithreaded calculations invoked).\n",
      "Before main variant filters, 503 founders and 0 nonfounders present.\n",
      "Calculating allele frequencies... 10111213141516171819202122232425262728293031323334353637383940414243444546474849505152535455565758596061626364656667686970717273747576777879808182838485868788899091929394959697989 done.\n",
      "29882 variants and 503 people pass filters and QC.\n",
      "Note: No phenotypes present.\n",
      "--make-bed to g1000_eur_chr21to22_hm3rnd1.bed + g1000_eur_chr21to22_hm3rnd1.bim\n",
      "+ g1000_eur_chr21to22_hm3rnd1.fam ... 101112131415161718192021222324252627282930313233343536373839404142434445464748495051525354555657585960616263646566676869707172737475767778798081828384858687888990919293949596979899done.\n",
      "PLINK v1.90b6.9 64-bit (4 Mar 2019)            www.cog-genomics.org/plink/1.9/\n",
      "(C) 2005-2019 Shaun Purcell, Christopher Chang   GNU General Public License v3\n",
      "Logging to g1000_eur_chr21to22_hm3rnd2.log.\n",
      "Options in effect:\n",
      "  --bfile /home/oleksanf/github/comorment/magma/reference/magma/g1000_eur/g1000_eur\n",
      "  --extract hm3_rand_v2.justrs\n",
      "  --make-bed\n",
      "  --out g1000_eur_chr21to22_hm3rnd2\n",
      "\n",
      "128694 MB RAM detected; reserving 64347 MB for main workspace.\n",
      "22665064 variants loaded from .bim file.\n",
      "503 people (240 males, 263 females) loaded from .fam.\n",
      "--extract: 29887 variants remaining.\n",
      "Using 1 thread (no multithreaded calculations invoked).\n",
      "Before main variant filters, 503 founders and 0 nonfounders present.\n",
      "Calculating allele frequencies... 10111213141516171819202122232425262728293031323334353637383940414243444546474849505152535455565758596061626364656667686970717273747576777879808182838485868788899091929394959697989 done.\n",
      "29887 variants and 503 people pass filters and QC.\n",
      "Note: No phenotypes present.\n",
      "--make-bed to g1000_eur_chr21to22_hm3rnd2.bed + g1000_eur_chr21to22_hm3rnd2.bim\n",
      "+ g1000_eur_chr21to22_hm3rnd2.fam ... 101112131415161718192021222324252627282930313233343536373839404142434445464748495051525354555657585960616263646566676869707172737475767778798081828384858687888990919293949596979899done.\n"
     ]
    }
   ],
   "source": [
    "import os\n",
    "for i in [1, 2]:\n",
    "    os.system(f'plink --bfile {bfile} --extract hm3_rand_v{i}.justrs --make-bed --out g1000_eur_chr21to22_hm3rnd{i}')"
   ]
  },
  {
   "cell_type": "code",
   "execution_count": 61,
   "metadata": {},
   "outputs": [
    {
     "name": "stdout",
     "output_type": "stream",
     "text": [
      "*********************************************************************\n",
      "* SIMU - library for simulation of GWAS summary statistics\n",
      "* Version v0.9.4\n",
      "* (C) 2018 Oleksandr Frei\n",
      "* Norwegian Centre for Mental Disorders Research / University of Oslo\n",
      "* GNU General Public License v3\n",
      "*********************************************************************\n",
      "Call:\n",
      "simu_linux \\\n",
      "\t--bfile g1000_eur_chr21to22_hm3rnd1 \\\n",
      "\t--qt \\\n",
      "\t--causal-n 50 \\\n",
      "\t--hsq 0.7 \n",
      "\n",
      "Analysis started: 2022-Dec-09 11:13:10\n",
      "WARNING: Target file simu.pheno already exists and will be overwritten\n",
      "Opening g1000_eur_chr21to22_hm3rnd1... done, 503 samples, 29882 variants.\n",
      "Options in effect (after applying default setting to non-specified parameters):\n",
      "\t--bfile g1000_eur_chr21to22_hm3rnd1 \\\n",
      "\t--qt \\\n",
      "\t--num-traits 1 \\\n",
      "\t--hsq 0.7 \\\n",
      "\t--num-components 1 \\\n",
      "\t--causal-n 50 \\\n",
      "\t--trait1-sigsq 1 \\\n",
      "\t--out simu \\\n",
      "\t--seed 1670584390218420 \\\n",
      "\n",
      "Calculate allele frequencies (for causal markers only)... \n",
      "Generate effect sizes from normal distribution...\n",
      "Calculate phenotypes... \n",
      "Save phenotypes to simu.pheno...\n",
      "Save causal variants and their effect sizes to simu.1.causals...\n",
      "Analysis finished: 2022-Dec-09 11:13:10\n",
      "Elapsed time: 00:00:00\n",
      "PLINK v2.00a2LM 64-bit Intel (23 Mar 2019)     www.cog-genomics.org/plink/2.0/\n",
      "(C) 2005-2019 Shaun Purcell, Christopher Chang   GNU General Public License v3\n",
      "Logging to simu.log.\n",
      "Options in effect:\n",
      "  --bfile g1000_eur_chr21to22_hm3rnd2\n",
      "  --glm\n",
      "  --out simu\n",
      "  --pheno simu.pheno\n",
      "\n",
      "Start time: Fri Dec  9 11:13:10 2022\n",
      "128694 MiB RAM detected; reserving 64347 MiB for main workspace.\n",
      "Using up to 12 threads (change this with --threads).\n",
      "503 samples (263 females, 240 males; 503 founders) loaded from\n",
      "g1000_eur_chr21to22_hm3rnd2.fam.\n",
      "29887 variants loaded from g1000_eur_chr21to22_hm3rnd2.bim.\n",
      "1 quantitative phenotype loaded (503 values).\n",
      "Calculating allele frequencies... 0%\b\bdone.\n",
      "--glm linear regression on phenotype 'trait1': 0%\b\bdone.\n",
      "Results written to simu.trait1.glm.linear .\n",
      "End time: Fri Dec  9 11:13:10 2022\n"
     ]
    },
    {
     "data": {
      "text/plain": [
       "0"
      ]
     },
     "execution_count": 61,
     "metadata": {},
     "output_type": "execute_result"
    }
   ],
   "source": [
    "os.system('simu_linux --bfile g1000_eur_chr21to22_hm3rnd1 --qt --causal-n 50 --hsq 0.7')\n",
    "os.system('plink2 --glm --bfile g1000_eur_chr21to22_hm3rnd2 --pheno simu.pheno --out simu')"
   ]
  },
  {
   "cell_type": "code",
   "execution_count": 62,
   "metadata": {},
   "outputs": [
    {
     "data": {
      "text/plain": [
       "Text(0.5, 1.0, 'manhattan')"
      ]
     },
     "execution_count": 62,
     "metadata": {},
     "output_type": "execute_result"
    },
    {
     "data": {
      "image/png": "[encoded data removed]",
      "text/plain": [
       "<Figure size 432x288 with 1 Axes>"
      ]
     },
     "metadata": {
      "needs_background": "light"
     },
     "output_type": "display_data"
    },
    {
     "data": {
      "image/png": "[encoded data removed]",
      "text/plain": [
       "<Figure size 432x288 with 1 Axes>"
      ]
     },
     "metadata": {
      "needs_background": "light"
     },
     "output_type": "display_data"
    }
   ],
   "source": [
    "import pandas as pd\n",
    "import numpy as np\n",
    "for trait in ['1']:\n",
    "    df=pd.read_csv(f'simu.trait{trait}.glm.linear', delim_whitespace=True)\n",
    "    df['A2'] = df['REF']; idx=df['A2']==df['A1']; df.loc[idx, 'A2']=df.loc[idx, 'ALT']; del df['REF']; del df['ALT']; del df['TEST']\n",
    "    df.dropna(inplace=True)\n",
    "    df.rename(columns={'ID':'SNP', '#CHROM':'CHR', 'POS':'BP', 'OBS_CT':'N', 'T_STAT':'Z', 'A1_FREQ':'FRQ'}, inplace=True)\n",
    "    df[sorted(df.columns)].to_csv(f'trait{trait}.sumstats.gz', sep='\\t', index=False)\n",
    "\n",
    "import matplotlib.pyplot as plt\n",
    "plt.plot(-np.log10(np.array(range(1,1+len(df)))/len(df)),    \n",
    "        -np.log10(sorted(df['P'].values)))\n",
    "plt.plot([0, 5], [0, 5], 'k--')\n",
    "plt.title('Q-Q plot')\n",
    "\n",
    "plt.figure()\n",
    "plt.plot(-np.log10(df['P'].values))\n",
    "plt.title('manhattan')"
   ]
  },
  {
   "cell_type": "code",
   "execution_count": 23,
   "metadata": {},
   "outputs": [
    {
     "name": "stdout",
     "output_type": "stream",
     "text": [
      "Loading backingfile: g1000_eur_chr21to22_hm3rnd1.rds \n",
      "Loading external phenotype in file simu.pheno \n",
      "\n",
      "### Reading LD reference meta-file from /ldpred2_ref/map_hm3_plus.rds\n",
      "\n",
      "### Reading summary statistics trait1.sumstats.gz \n",
      "Loaded 29887 SNPs\n",
      "Filtering SNPs based on --chr2use\n",
      "Retained 29887 out of 29887 \n",
      "Matching sumstats to genotypes\n"
     ]
    },
    {
     "name": "stderr",
     "output_type": "stream",
     "text": [
      "29,887 variants to be matched.\n",
      "1 ambiguous SNPs have been removed.\n",
      "22,428 variants have been matched; 0 were flipped and 21 were reversed.\n"
     ]
    },
    {
     "name": "stdout",
     "output_type": "stream",
     "text": [
      "Matching sumstats to LD reference\n"
     ]
    },
    {
     "name": "stderr",
     "output_type": "stream",
     "text": [
      "22,428 variants to be matched.\n",
      "0 ambiguous SNPs have been removed.\n",
      "19,602 variants have been matched; 0 were flipped and 13,837 were reversed.\n"
     ]
    },
    {
     "name": "stdout",
     "output_type": "stream",
     "text": [
      "\n",
      "### Loading LD reference from /ldpred2_ref/ldref_hm3_plus/LD_with_blocks_chr@.rds\n",
      "21 : loading LD for 9785 out of 20582 SNPs\n",
      "22 : loading LD for 9817 out of 21233 SNPs\n",
      "\n",
      "### Running LD score regression\n",
      "Results: Intercept = 0.9586156 H2 = 1.336648 \n",
      "\n",
      "### Starting polygenic scoring\n",
      "Running LDPRED2 infinitesimal model\n",
      "Calculating beta inf\n",
      "Scoring all individuals...Correlation with phenotype: 0.9165 \n",
      "\n",
      "### Writing fam file with PGS and phenotype\n"
     ]
    },
    {
     "name": "stderr",
     "output_type": "stream",
     "text": [
      "19,602 variants to be matched.\n",
      "0 ambiguous SNPs have been removed.\n",
      "19,602 variants have been matched; 0 were flipped and 13,837 were reversed.\n"
     ]
    },
    {
     "name": "stdout",
     "output_type": "stream",
     "text": [
      "Loading backingfile: g1000_eur_chr21to22_hm3rnd1.rds \n",
      "Loading external phenotype in file simu.pheno \n",
      "\n",
      "### Reading LD reference meta-file from /ldpred2_ref/map_hm3_plus.rds\n",
      "\n",
      "### Reading summary statistics trait1.sumstats.gz \n",
      "Loaded 29887 SNPs\n",
      "Filtering SNPs based on --chr2use\n",
      "Retained 29887 out of 29887 \n",
      "Matching sumstats to genotypes\n"
     ]
    },
    {
     "name": "stderr",
     "output_type": "stream",
     "text": [
      "29,887 variants to be matched.\n",
      "1 ambiguous SNPs have been removed.\n",
      "22,428 variants have been matched; 0 were flipped and 21 were reversed.\n"
     ]
    },
    {
     "name": "stdout",
     "output_type": "stream",
     "text": [
      "Matching sumstats to LD reference\n"
     ]
    },
    {
     "name": "stderr",
     "output_type": "stream",
     "text": [
      "22,428 variants to be matched.\n",
      "0 ambiguous SNPs have been removed.\n",
      "19,602 variants have been matched; 0 were flipped and 13,837 were reversed.\n"
     ]
    },
    {
     "name": "stdout",
     "output_type": "stream",
     "text": [
      "\n",
      "### Loading LD reference from /ldpred2_ref/ldref_hm3_plus/LD_with_blocks_chr@.rds\n",
      "21 : loading LD for 9785 out of 20582 SNPs\n",
      "22 : loading LD for 9817 out of 21233 SNPs\n",
      "\n",
      "### Running LD score regression\n",
      "Results: Intercept = 0.9586156 H2 = 1.336648 \n",
      "\n",
      "### Starting polygenic scoring\n",
      "Running LDPRED2 auto model\n",
      "Plotting diagnostics: ldpred2.auto.png\n"
     ]
    },
    {
     "name": "stderr",
     "output_type": "stream",
     "text": [
      "Saving 7 x 7 in image\n"
     ]
    },
    {
     "name": "stdout",
     "output_type": "stream",
     "text": [
      "Filtering chains\n",
      "Scoring all individuals...Correlation with phenotype: 0.8667 \n",
      "\n",
      "### Writing fam file with PGS and phenotype\n"
     ]
    },
    {
     "name": "stderr",
     "output_type": "stream",
     "text": [
      "19,602 variants to be matched.\n",
      "0 ambiguous SNPs have been removed.\n",
      "19,602 variants have been matched; 0 were flipped and 13,837 were reversed.\n"
     ]
    },
    {
     "data": {
      "text/plain": [
       "0"
      ]
     },
     "execution_count": 23,
     "metadata": {},
     "output_type": "execute_result"
    }
   ],
   "source": [
    "import os\n",
    "os.system(\"\"\"    \n",
    "export RSCRIPT=\"singularity exec --bind $COMORMENT/ldpred2_ref:/ldpred2_ref --home=$PWD:/home $SIF/r.sif Rscript\"\n",
    "export fileGeno=\"g1000_eur_chr21to22_hm3rnd1.bed\"\n",
    "export fileGenoRDS=\"g1000_eur_chr21to22_hm3rnd1.rds\"\n",
    "export fileSumstats=trait1.sumstats.gz\n",
    "export filePheno=simu.pheno\n",
    "export colPheno=trait1\n",
    "export fileOut=ldpred2\n",
    "\n",
    "$RSCRIPT ldpred2.R  --ldpred-mode inf --file-pheno $filePheno --col-pheno $colPheno $fileGenoRDS $fileSumstats $fileOut.inf\n",
    "$RSCRIPT ldpred2.R  --ldpred-mode auto --file-pheno $filePheno --col-pheno $colPheno $fileGenoRDS $fileSumstats $fileOut.auto\n",
    "\"\"\"\n",
    ")"
   ]
  },
  {
   "cell_type": "code",
   "execution_count": 24,
   "metadata": {},
   "outputs": [
    {
     "data": {
      "text/plain": [
       "[<matplotlib.lines.Line2D at 0x7fc251d91438>]"
      ]
     },
     "execution_count": 24,
     "metadata": {},
     "output_type": "execute_result"
    },
    {
     "data": {
      "image/png": "[encoded data removed]",
      "text/plain": [
       "<Figure size 432x288 with 1 Axes>"
      ]
     },
     "metadata": {
      "needs_background": "light"
     },
     "output_type": "display_data"
    },
    {
     "data": {
      "image/png": "[encoded data removed]",
      "text/plain": [
       "<Figure size 432x288 with 1 Axes>"
      ]
     },
     "metadata": {
      "needs_background": "light"
     },
     "output_type": "display_data"
    },
    {
     "data": {
      "image/png": "[encoded data removed]",
      "text/plain": [
       "<Figure size 432x288 with 1 Axes>"
      ]
     },
     "metadata": {
      "needs_background": "light"
     },
     "output_type": "display_data"
    }
   ],
   "source": [
    "import pandas as pd\n",
    "import matplotlib.pyplot as plt\n",
    "df_inf=pd.read_csv('ldpred2.inf', delim_whitespace=True)\n",
    "df_auto=pd.read_csv('ldpred2.auto', delim_whitespace=True)\n",
    "plt.figure()\n",
    "plt.plot(df_inf['trait1'].values, df_inf['score'].values, '.')\n",
    "plt.figure()\n",
    "plt.plot(df_auto['trait1'].values, df_auto['score'].values, '.')\n",
    "plt.figure()\n",
    "plt.plot(df_inf['score'].values, df_auto['score'].values, '.')"
   ]
  },
  {
   "cell_type": "code",
   "execution_count": 14,
   "metadata": {},
   "outputs": [
    {
     "name": "stdout",
     "output_type": "stream",
     "text": [
      "0.49163784315499853\n",
      "0.49987836916644984\n"
     ]
    }
   ],
   "source": [
    "import pandas as pd\n",
    "import numpy as np\n",
    "df=pd.read_csv('Height.inf', delim_whitespace=True)\n",
    "print(df[['Height', 'score']].corr().values[0, 1])\n",
    "\n",
    "df=pd.read_csv('Height.auto', delim_whitespace=True)\n",
    "print(df[['Height', 'score']].corr().values[0, 1])\n"
   ]
  },
  {
   "cell_type": "code",
   "execution_count": null,
   "metadata": {},
   "outputs": [],
   "source": []
  }
 ],
 "metadata": {
  "kernelspec": {
   "display_name": "Python 3 (ipykernel)",
   "language": "python",
   "name": "python3"
  },
  "language_info": {
   "codemirror_mode": {
    "name": "ipython",
    "version": 3
   },
   "file_extension": ".py",
   "mimetype": "text/x-python",
   "name": "python",
   "nbconvert_exporter": "python",
   "pygments_lexer": "ipython3",
   "version": "3.7.3"
  }
 },
 "nbformat": 4,
 "nbformat_minor": 2
}
