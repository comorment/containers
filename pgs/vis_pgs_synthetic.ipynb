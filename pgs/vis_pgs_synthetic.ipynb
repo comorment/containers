{
 "cells": [
  {
   "cell_type": "markdown",
   "metadata": {},
   "source": [
    "## Compare PGS scores\n",
    "Compare output from the different PGS prediction models."
   ]
  },
  {
   "cell_type": "code",
   "execution_count": 7,
   "metadata": {},
   "outputs": [],
   "source": [
    "import matplotlib\n",
    "import os\n",
    "import matplotlib.pyplot as plt\n",
    "import numpy as np\n",
    "import pandas as pd\n",
    "import seaborn as sns"
   ]
  },
  {
   "cell_type": "code",
   "execution_count": 8,
   "metadata": {},
   "outputs": [],
   "source": [
    "matplotlib.rc_file_defaults()"
   ]
  },
  {
   "cell_type": "code",
   "execution_count": 9,
   "metadata": {},
   "outputs": [],
   "source": [
    "def ztransform(x):\n",
    "    '''\n",
    "    Return input normalized to zero mean and unit variance\n",
    "    \n",
    "    Parameters\n",
    "    ----------\n",
    "    x: ndarray\n",
    "    \n",
    "    Returns\n",
    "    -------\n",
    "    ndarray\n",
    "    '''\n",
    "    return (x - x.mean()) / x.std()"
   ]
  },
  {
   "cell_type": "code",
   "execution_count": 10,
   "metadata": {},
   "outputs": [],
   "source": [
    "def get_pheno_list(phenodata, scores):\n",
    "    '''\n",
    "    For whatever reason the computed scores may include different pairs \n",
    "    of IID & FID than exist in the phenotype file. This function \n",
    "    fills in a NaN value for missing phenotype values\n",
    "\n",
    "    Parameters\n",
    "    ----------\n",
    "    phenodata: DataFrame\n",
    "        Phenotype dataframe with columns ['IID', 'FID', <phenotype>]\n",
    "    scores: DataFrame\n",
    "        PGS dataframe with columns ['IID', 'FID', 'score']\n",
    "\n",
    "    Returns\n",
    "    -------\n",
    "    DataFrame\n",
    "        Phenotype dataframe with columns ['IID', 'FID', <phenotype>]\n",
    "    '''\n",
    "    pheno_list = []\n",
    "    for fid, iid in scores[['FID', 'IID']].values:\n",
    "        row = phenodata[(phenodata['FID'] == fid) & (phenodata['IID'] == iid)]\n",
    "        # fill in NaN if value is missing\n",
    "        if row.size == 0:\n",
    "            row = pd.DataFrame(data=[['FID', 'IID', np.nan]], \n",
    "                               columns=phenodata.columns)\n",
    "        pheno_list += [row]\n",
    "    return pd.concat(pheno_list, ignore_index=True)"
   ]
  },
  {
   "cell_type": "code",
   "execution_count": 11,
   "metadata": {},
   "outputs": [],
   "source": [
    "# Load phenotypes\n",
    "# Pheno_file = '/REF/examples/prsice2/EUR.height'\n",
    "Pheno_file = '/REF/examples/ldpred2/simu.pheno'\n",
    "\n",
    "pheno = pd.read_csv(Pheno_file, delim_whitespace=True)\n",
    "\n",
    "pheno_type = pheno.columns[2]"
   ]
  },
  {
   "cell_type": "code",
   "execution_count": 12,
   "metadata": {},
   "outputs": [
    {
     "ename": "FileNotFoundError",
     "evalue": "[Errno 2] No such file or directory: 'PGS_synthetic_plink/test.score'",
     "output_type": "error",
     "traceback": [
      "\u001b[0;31m---------------------------------------------------------------------------\u001b[0m",
      "\u001b[0;31mFileNotFoundError\u001b[0m                         Traceback (most recent call last)",
      "Cell \u001b[0;32mIn [12], line 5\u001b[0m\n\u001b[1;32m      2\u001b[0m Output_dir \u001b[39m=\u001b[39m \u001b[39m'\u001b[39m\u001b[39mPGS_synthetic_plink\u001b[39m\u001b[39m'\u001b[39m\n\u001b[1;32m      4\u001b[0m \u001b[39m# scores\u001b[39;00m\n\u001b[0;32m----> 5\u001b[0m scores_plink \u001b[39m=\u001b[39m pd\u001b[39m.\u001b[39;49mread_csv(os\u001b[39m.\u001b[39;49mpath\u001b[39m.\u001b[39;49mjoin(Output_dir, \u001b[39m'\u001b[39;49m\u001b[39mtest.score\u001b[39;49m\u001b[39m'\u001b[39;49m), sep\u001b[39m=\u001b[39;49m\u001b[39m'\u001b[39;49m\u001b[39m \u001b[39;49m\u001b[39m'\u001b[39;49m)\n\u001b[1;32m      7\u001b[0m \u001b[39m# extract valids\u001b[39;00m\n\u001b[1;32m      8\u001b[0m pheno_list \u001b[39m=\u001b[39m get_pheno_list(pheno, scores_plink)\n",
      "File \u001b[0;32m/usr/local/lib/python3.10/site-packages/pandas/util/_decorators.py:211\u001b[0m, in \u001b[0;36mdeprecate_kwarg.<locals>._deprecate_kwarg.<locals>.wrapper\u001b[0;34m(*args, **kwargs)\u001b[0m\n\u001b[1;32m    209\u001b[0m     \u001b[39melse\u001b[39;00m:\n\u001b[1;32m    210\u001b[0m         kwargs[new_arg_name] \u001b[39m=\u001b[39m new_arg_value\n\u001b[0;32m--> 211\u001b[0m \u001b[39mreturn\u001b[39;00m func(\u001b[39m*\u001b[39;49margs, \u001b[39m*\u001b[39;49m\u001b[39m*\u001b[39;49mkwargs)\n",
      "File \u001b[0;32m/usr/local/lib/python3.10/site-packages/pandas/util/_decorators.py:317\u001b[0m, in \u001b[0;36mdeprecate_nonkeyword_arguments.<locals>.decorate.<locals>.wrapper\u001b[0;34m(*args, **kwargs)\u001b[0m\n\u001b[1;32m    311\u001b[0m \u001b[39mif\u001b[39;00m \u001b[39mlen\u001b[39m(args) \u001b[39m>\u001b[39m num_allow_args:\n\u001b[1;32m    312\u001b[0m     warnings\u001b[39m.\u001b[39mwarn(\n\u001b[1;32m    313\u001b[0m         msg\u001b[39m.\u001b[39mformat(arguments\u001b[39m=\u001b[39marguments),\n\u001b[1;32m    314\u001b[0m         \u001b[39mFutureWarning\u001b[39;00m,\n\u001b[1;32m    315\u001b[0m         stacklevel\u001b[39m=\u001b[39mfind_stack_level(inspect\u001b[39m.\u001b[39mcurrentframe()),\n\u001b[1;32m    316\u001b[0m     )\n\u001b[0;32m--> 317\u001b[0m \u001b[39mreturn\u001b[39;00m func(\u001b[39m*\u001b[39;49margs, \u001b[39m*\u001b[39;49m\u001b[39m*\u001b[39;49mkwargs)\n",
      "File \u001b[0;32m/usr/local/lib/python3.10/site-packages/pandas/io/parsers/readers.py:950\u001b[0m, in \u001b[0;36mread_csv\u001b[0;34m(filepath_or_buffer, sep, delimiter, header, names, index_col, usecols, squeeze, prefix, mangle_dupe_cols, dtype, engine, converters, true_values, false_values, skipinitialspace, skiprows, skipfooter, nrows, na_values, keep_default_na, na_filter, verbose, skip_blank_lines, parse_dates, infer_datetime_format, keep_date_col, date_parser, dayfirst, cache_dates, iterator, chunksize, compression, thousands, decimal, lineterminator, quotechar, quoting, doublequote, escapechar, comment, encoding, encoding_errors, dialect, error_bad_lines, warn_bad_lines, on_bad_lines, delim_whitespace, low_memory, memory_map, float_precision, storage_options)\u001b[0m\n\u001b[1;32m    935\u001b[0m kwds_defaults \u001b[39m=\u001b[39m _refine_defaults_read(\n\u001b[1;32m    936\u001b[0m     dialect,\n\u001b[1;32m    937\u001b[0m     delimiter,\n\u001b[0;32m   (...)\u001b[0m\n\u001b[1;32m    946\u001b[0m     defaults\u001b[39m=\u001b[39m{\u001b[39m\"\u001b[39m\u001b[39mdelimiter\u001b[39m\u001b[39m\"\u001b[39m: \u001b[39m\"\u001b[39m\u001b[39m,\u001b[39m\u001b[39m\"\u001b[39m},\n\u001b[1;32m    947\u001b[0m )\n\u001b[1;32m    948\u001b[0m kwds\u001b[39m.\u001b[39mupdate(kwds_defaults)\n\u001b[0;32m--> 950\u001b[0m \u001b[39mreturn\u001b[39;00m _read(filepath_or_buffer, kwds)\n",
      "File \u001b[0;32m/usr/local/lib/python3.10/site-packages/pandas/io/parsers/readers.py:605\u001b[0m, in \u001b[0;36m_read\u001b[0;34m(filepath_or_buffer, kwds)\u001b[0m\n\u001b[1;32m    602\u001b[0m _validate_names(kwds\u001b[39m.\u001b[39mget(\u001b[39m\"\u001b[39m\u001b[39mnames\u001b[39m\u001b[39m\"\u001b[39m, \u001b[39mNone\u001b[39;00m))\n\u001b[1;32m    604\u001b[0m \u001b[39m# Create the parser.\u001b[39;00m\n\u001b[0;32m--> 605\u001b[0m parser \u001b[39m=\u001b[39m TextFileReader(filepath_or_buffer, \u001b[39m*\u001b[39;49m\u001b[39m*\u001b[39;49mkwds)\n\u001b[1;32m    607\u001b[0m \u001b[39mif\u001b[39;00m chunksize \u001b[39mor\u001b[39;00m iterator:\n\u001b[1;32m    608\u001b[0m     \u001b[39mreturn\u001b[39;00m parser\n",
      "File \u001b[0;32m/usr/local/lib/python3.10/site-packages/pandas/io/parsers/readers.py:1442\u001b[0m, in \u001b[0;36mTextFileReader.__init__\u001b[0;34m(self, f, engine, **kwds)\u001b[0m\n\u001b[1;32m   1439\u001b[0m     \u001b[39mself\u001b[39m\u001b[39m.\u001b[39moptions[\u001b[39m\"\u001b[39m\u001b[39mhas_index_names\u001b[39m\u001b[39m\"\u001b[39m] \u001b[39m=\u001b[39m kwds[\u001b[39m\"\u001b[39m\u001b[39mhas_index_names\u001b[39m\u001b[39m\"\u001b[39m]\n\u001b[1;32m   1441\u001b[0m \u001b[39mself\u001b[39m\u001b[39m.\u001b[39mhandles: IOHandles \u001b[39m|\u001b[39m \u001b[39mNone\u001b[39;00m \u001b[39m=\u001b[39m \u001b[39mNone\u001b[39;00m\n\u001b[0;32m-> 1442\u001b[0m \u001b[39mself\u001b[39m\u001b[39m.\u001b[39m_engine \u001b[39m=\u001b[39m \u001b[39mself\u001b[39;49m\u001b[39m.\u001b[39;49m_make_engine(f, \u001b[39mself\u001b[39;49m\u001b[39m.\u001b[39;49mengine)\n",
      "File \u001b[0;32m/usr/local/lib/python3.10/site-packages/pandas/io/parsers/readers.py:1729\u001b[0m, in \u001b[0;36mTextFileReader._make_engine\u001b[0;34m(self, f, engine)\u001b[0m\n\u001b[1;32m   1727\u001b[0m     is_text \u001b[39m=\u001b[39m \u001b[39mFalse\u001b[39;00m\n\u001b[1;32m   1728\u001b[0m     mode \u001b[39m=\u001b[39m \u001b[39m\"\u001b[39m\u001b[39mrb\u001b[39m\u001b[39m\"\u001b[39m\n\u001b[0;32m-> 1729\u001b[0m \u001b[39mself\u001b[39m\u001b[39m.\u001b[39mhandles \u001b[39m=\u001b[39m get_handle(\n\u001b[1;32m   1730\u001b[0m     f,\n\u001b[1;32m   1731\u001b[0m     mode,\n\u001b[1;32m   1732\u001b[0m     encoding\u001b[39m=\u001b[39;49m\u001b[39mself\u001b[39;49m\u001b[39m.\u001b[39;49moptions\u001b[39m.\u001b[39;49mget(\u001b[39m\"\u001b[39;49m\u001b[39mencoding\u001b[39;49m\u001b[39m\"\u001b[39;49m, \u001b[39mNone\u001b[39;49;00m),\n\u001b[1;32m   1733\u001b[0m     compression\u001b[39m=\u001b[39;49m\u001b[39mself\u001b[39;49m\u001b[39m.\u001b[39;49moptions\u001b[39m.\u001b[39;49mget(\u001b[39m\"\u001b[39;49m\u001b[39mcompression\u001b[39;49m\u001b[39m\"\u001b[39;49m, \u001b[39mNone\u001b[39;49;00m),\n\u001b[1;32m   1734\u001b[0m     memory_map\u001b[39m=\u001b[39;49m\u001b[39mself\u001b[39;49m\u001b[39m.\u001b[39;49moptions\u001b[39m.\u001b[39;49mget(\u001b[39m\"\u001b[39;49m\u001b[39mmemory_map\u001b[39;49m\u001b[39m\"\u001b[39;49m, \u001b[39mFalse\u001b[39;49;00m),\n\u001b[1;32m   1735\u001b[0m     is_text\u001b[39m=\u001b[39;49mis_text,\n\u001b[1;32m   1736\u001b[0m     errors\u001b[39m=\u001b[39;49m\u001b[39mself\u001b[39;49m\u001b[39m.\u001b[39;49moptions\u001b[39m.\u001b[39;49mget(\u001b[39m\"\u001b[39;49m\u001b[39mencoding_errors\u001b[39;49m\u001b[39m\"\u001b[39;49m, \u001b[39m\"\u001b[39;49m\u001b[39mstrict\u001b[39;49m\u001b[39m\"\u001b[39;49m),\n\u001b[1;32m   1737\u001b[0m     storage_options\u001b[39m=\u001b[39;49m\u001b[39mself\u001b[39;49m\u001b[39m.\u001b[39;49moptions\u001b[39m.\u001b[39;49mget(\u001b[39m\"\u001b[39;49m\u001b[39mstorage_options\u001b[39;49m\u001b[39m\"\u001b[39;49m, \u001b[39mNone\u001b[39;49;00m),\n\u001b[1;32m   1738\u001b[0m )\n\u001b[1;32m   1739\u001b[0m \u001b[39massert\u001b[39;00m \u001b[39mself\u001b[39m\u001b[39m.\u001b[39mhandles \u001b[39mis\u001b[39;00m \u001b[39mnot\u001b[39;00m \u001b[39mNone\u001b[39;00m\n\u001b[1;32m   1740\u001b[0m f \u001b[39m=\u001b[39m \u001b[39mself\u001b[39m\u001b[39m.\u001b[39mhandles\u001b[39m.\u001b[39mhandle\n",
      "File \u001b[0;32m/usr/local/lib/python3.10/site-packages/pandas/io/common.py:857\u001b[0m, in \u001b[0;36mget_handle\u001b[0;34m(path_or_buf, mode, encoding, compression, memory_map, is_text, errors, storage_options)\u001b[0m\n\u001b[1;32m    852\u001b[0m \u001b[39melif\u001b[39;00m \u001b[39misinstance\u001b[39m(handle, \u001b[39mstr\u001b[39m):\n\u001b[1;32m    853\u001b[0m     \u001b[39m# Check whether the filename is to be opened in binary mode.\u001b[39;00m\n\u001b[1;32m    854\u001b[0m     \u001b[39m# Binary mode does not support 'encoding' and 'newline'.\u001b[39;00m\n\u001b[1;32m    855\u001b[0m     \u001b[39mif\u001b[39;00m ioargs\u001b[39m.\u001b[39mencoding \u001b[39mand\u001b[39;00m \u001b[39m\"\u001b[39m\u001b[39mb\u001b[39m\u001b[39m\"\u001b[39m \u001b[39mnot\u001b[39;00m \u001b[39min\u001b[39;00m ioargs\u001b[39m.\u001b[39mmode:\n\u001b[1;32m    856\u001b[0m         \u001b[39m# Encoding\u001b[39;00m\n\u001b[0;32m--> 857\u001b[0m         handle \u001b[39m=\u001b[39m \u001b[39mopen\u001b[39;49m(\n\u001b[1;32m    858\u001b[0m             handle,\n\u001b[1;32m    859\u001b[0m             ioargs\u001b[39m.\u001b[39;49mmode,\n\u001b[1;32m    860\u001b[0m             encoding\u001b[39m=\u001b[39;49mioargs\u001b[39m.\u001b[39;49mencoding,\n\u001b[1;32m    861\u001b[0m             errors\u001b[39m=\u001b[39;49merrors,\n\u001b[1;32m    862\u001b[0m             newline\u001b[39m=\u001b[39;49m\u001b[39m\"\u001b[39;49m\u001b[39m\"\u001b[39;49m,\n\u001b[1;32m    863\u001b[0m         )\n\u001b[1;32m    864\u001b[0m     \u001b[39melse\u001b[39;00m:\n\u001b[1;32m    865\u001b[0m         \u001b[39m# Binary mode\u001b[39;00m\n\u001b[1;32m    866\u001b[0m         handle \u001b[39m=\u001b[39m \u001b[39mopen\u001b[39m(handle, ioargs\u001b[39m.\u001b[39mmode)\n",
      "\u001b[0;31mFileNotFoundError\u001b[0m: [Errno 2] No such file or directory: 'PGS_synthetic_plink/test.score'"
     ]
    }
   ],
   "source": [
    "# plink\n",
    "Output_dir = 'PGS_synthetic_plink'\n",
    "\n",
    "# scores\n",
    "scores_plink = pd.read_csv(os.path.join(Output_dir, 'test.score'), sep=' ')\n",
    "\n",
    "# extract valids\n",
    "pheno_list = get_pheno_list(pheno, scores_plink)\n",
    "\n",
    "# plot SCORE vs measured HEIGHT\n",
    "plt.plot(scores_plink['score'], pheno_list[pheno_type], '.')\n",
    "plt.xlabel('$PRS_\\mathrm{Plink}$')\n",
    "plt.ylabel(pheno_type)"
   ]
  },
  {
   "cell_type": "code",
   "execution_count": null,
   "metadata": {},
   "outputs": [],
   "source": [
    "# PRSice-2\n",
    "Output_dir = 'PGS_synthetic_prsice2'\n",
    "\n",
    "# scores\n",
    "scores_prsice2 = pd.read_csv(os.path.join(Output_dir, 'test.score'), sep=' ')\n",
    "\n",
    "# extract valids\n",
    "pheno_list = get_pheno_list(pheno, scores_prsice2)\n",
    "\n",
    "# plot SCORE vs HEIGHT\n",
    "plt.plot(scores_prsice2['score'], pheno_list[pheno_type], '.')\n",
    "plt.xlabel('$PRS_\\mathrm{PRSice2}$')\n",
    "plt.ylabel(pheno_type)"
   ]
  },
  {
   "cell_type": "code",
   "execution_count": null,
   "metadata": {},
   "outputs": [],
   "source": [
    "# LDpred2 infinitesimal model\n",
    "Output_dir = 'PGS_synthetic_LDpred2_inf'\n",
    "\n",
    "# scores\n",
    "scores_ldpred2_inf = pd.read_csv(os.path.join(Output_dir, 'test.score'), delim_whitespace=True)\n",
    "\n",
    "# extract valids\n",
    "pheno_list = get_pheno_list(pheno, scores_ldpred2_inf)\n",
    "\n",
    "# plot SCORE vs HEIGHT\n",
    "plt.plot(scores_ldpred2_inf['score'], pheno_list[pheno_type], '.')\n",
    "plt.xlabel('$PRS_\\mathrm{ldpred2\\_inf}$')\n",
    "plt.ylabel(pheno_type)"
   ]
  },
  {
   "cell_type": "code",
   "execution_count": null,
   "metadata": {},
   "outputs": [],
   "source": [
    "# LDpred2 automatic model\n",
    "Output_dir = 'PGS_synthetic_LDpred2_auto'\n",
    "\n",
    "# scores\n",
    "scores_ldpred2_auto = pd.read_csv(os.path.join(Output_dir, 'test.score'), delim_whitespace=True)\n",
    "\n",
    "# extract valids\n",
    "pheno_list = get_pheno_list(pheno, scores_ldpred2_inf)\n",
    "\n",
    "# plot SCORE vs HEIGHT\n",
    "plt.plot(scores_ldpred2_auto['score'], pheno_list[pheno_type], '.')\n",
    "plt.xlabel('$PRS_\\mathrm{ldpred2\\_auto}$')\n",
    "plt.ylabel(pheno_type)"
   ]
  },
  {
   "cell_type": "code",
   "execution_count": null,
   "metadata": {},
   "outputs": [],
   "source": [
    "# compare scores and distributions\n",
    "all_scores = [\n",
    "    scores_plink, \n",
    "    scores_prsice2, \n",
    "    scores_ldpred2_inf, \n",
    "    scores_ldpred2_auto\n",
    "    ]\n",
    "labels = [\n",
    "    r'$PRS_\\mathrm{Plink}$', \n",
    "    r'$PRS_\\mathrm{PRSice2}$', \n",
    "    r'$PRS_\\mathrm{LDpred2-inf}$', \n",
    "    r'$PRS_\\mathrm{LDpred2-auto}$'\n",
    "    ]\n",
    "\n",
    "fig, axes = plt.subplots(len(all_scores) + 1, len(all_scores), figsize=(12, 10), sharex='col')\n",
    "fig.subplots_adjust(wspace=0.4, hspace=0.4)\n",
    "\n",
    "for i in range(len(all_scores)):\n",
    "    y = all_scores[i]['score']\n",
    "    for j in range(len(all_scores)):\n",
    "        x = all_scores[j]['score']\n",
    "        if i < j:\n",
    "            axes[i, j].set_visible(False)\n",
    "        elif i==j:\n",
    "            axes[i, j].hist(x, bins=51)\n",
    "            axes[i, j].set_ylabel('count', labelpad=0)\n",
    "        elif i > j:\n",
    "            sns.kdeplot(x=x, \n",
    "                        y=y,\n",
    "                        ax=axes[i, j],\n",
    "                        color='gray')\n",
    "            axes[i, j].plot(x, y, 'C0.', ms=2)\n",
    "            axes[i, j].set_ylabel(labels[i], labelpad=0)\n",
    "            axes[i, j].set_title(f'CC={np.corrcoef(x, y)[1, 0]:.3f}')\n",
    "\n",
    "# height vs. prs\n",
    "y = pheno_list[pheno_type]\n",
    "for j in range(len(all_scores)):\n",
    "    ax = axes[-1, j]\n",
    "    x = all_scores[j]['score']\n",
    "    sns.kdeplot(x=x, \n",
    "                y=y,\n",
    "                ax=ax,\n",
    "                color='gray')\n",
    "    ax.plot(x, y, '.', ms=2)\n",
    "    ax.set_xlabel(labels[j], labelpad=0)\n",
    "    ax.set_ylabel(pheno_type)\n",
    "    ax.set_title(f'CC={np.corrcoef(x, y)[1, 0]:.3f}')\n",
    "    "
   ]
  },
  {
   "cell_type": "code",
   "execution_count": null,
   "metadata": {},
   "outputs": [],
   "source": [
    "# normalized scores\n",
    "fig, axes = plt.subplots(len(all_scores) + 1, len(all_scores), figsize=(12, 10), sharex='col')\n",
    "fig.subplots_adjust(wspace=0.4, hspace=0.4)\n",
    "fig.suptitle(f'normalized scores ($\\mu=0, \\sigma^2=1$)')\n",
    "\n",
    "for i in range(len(all_scores)):\n",
    "    y = ztransform(all_scores[i]['score'])\n",
    "    for j in range(len(all_scores)):\n",
    "        x = ztransform(all_scores[j]['score'])\n",
    "        if i < j:\n",
    "            axes[i, j].set_visible(False)\n",
    "        elif i==j:\n",
    "            axes[i, j].hist(x, bins=51)\n",
    "            axes[i, j].set_ylabel('count', labelpad=0)\n",
    "        elif i > j:\n",
    "            sns.kdeplot(x=x, \n",
    "                        y=y,\n",
    "                        ax=axes[i, j],\n",
    "                        color='gray',\n",
    "                        )\n",
    "            axes[i, j].plot(x, y, 'C0.', ms=2)\n",
    "            axes[i, j].set_ylabel(labels[i], labelpad=0)\n",
    "            axes[i, j].set_title(f'CC={np.corrcoef(x, y)[1, 0]:.3f}')\n",
    "\n",
    "# height vs. prs\n",
    "y = pheno_list[pheno_type]\n",
    "for j in range(len(all_scores)):\n",
    "    ax = axes[-1, j]\n",
    "    x = ztransform(all_scores[j]['score'])\n",
    "    sns.kdeplot(x=x, \n",
    "                y=y,\n",
    "                ax=ax,\n",
    "                color='gray')\n",
    "    ax.plot(x, y, '.', ms=2)\n",
    "    ax.set_xlabel(labels[j], labelpad=0)\n",
    "    ax.set_ylabel(pheno_type)\n",
    "    ax.set_title(f'CC={np.corrcoef(x, y)[1, 0]:.3f}')\n",
    "    \n",
    "# fig.savefig('vis_pgs_synthetic_normalized_scores.pdf')"
   ]
  },
  {
   "cell_type": "code",
   "execution_count": null,
   "metadata": {},
   "outputs": [],
   "source": []
  }
 ],
 "metadata": {
  "kernelspec": {
   "display_name": "Python 3 (ipykernel)",
   "language": "python",
   "name": "python3"
  },
  "language_info": {
   "codemirror_mode": {
    "name": "ipython",
    "version": 3
   },
   "file_extension": ".py",
   "mimetype": "text/x-python",
   "name": "python",
   "nbconvert_exporter": "python",
   "pygments_lexer": "ipython3",
   "version": "3.10.6"
  },
  "orig_nbformat": 4,
  "vscode": {
   "interpreter": {
    "hash": "31f2aee4e71d21fbe5cf8b01ff0e069b9275f58929596ceb00d14d90e3e16cd6"
   }
  }
 },
 "nbformat": 4,
 "nbformat_minor": 2
}
