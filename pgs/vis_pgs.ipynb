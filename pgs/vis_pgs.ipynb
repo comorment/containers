{
 "cells": [
  {
   "cell_type": "markdown",
   "metadata": {},
   "source": [
    "## Compare PGS scores\n",
    "Compare output from the different PGS prediction models."
   ]
  },
  {
   "cell_type": "code",
   "execution_count": null,
   "metadata": {},
   "outputs": [],
   "source": [
    "import matplotlib\n",
    "import os\n",
    "import matplotlib.pyplot as plt\n",
    "import numpy as np\n",
    "import pandas as pd\n",
    "import seaborn as sns"
   ]
  },
  {
   "cell_type": "code",
   "execution_count": null,
   "metadata": {},
   "outputs": [],
   "source": [
    "matplotlib.rc_file_defaults()"
   ]
  },
  {
   "cell_type": "code",
   "execution_count": null,
   "metadata": {},
   "outputs": [],
   "source": [
    "def ztransform(x):\n",
    "    '''\n",
    "    Return input normalized to zero mean and unit variance\n",
    "    \n",
    "    Parameters\n",
    "    ----------\n",
    "    x: ndarray\n",
    "    \n",
    "    Returns\n",
    "    -------\n",
    "    ndarray\n",
    "    '''\n",
    "    return (x - x.mean()) / x.std()"
   ]
  },
  {
   "cell_type": "code",
   "execution_count": null,
   "metadata": {},
   "outputs": [],
   "source": [
    "def get_pheno_list(phenodata, scores):\n",
    "    '''\n",
    "    For whatever reason the computed scores may include different pairs \n",
    "    of IID & FID than exist in the phenotype file. This function \n",
    "    fills in a NaN value for missing phenotype values\n",
    "\n",
    "    Parameters\n",
    "    ----------\n",
    "    phenodata: DataFrame\n",
    "        Phenotype dataframe with columns ['IID', 'FID', <phenotype>]\n",
    "    scores: DataFrame\n",
    "        PGS dataframe with columns ['IID', 'FID', 'score']\n",
    "\n",
    "    Returns\n",
    "    -------\n",
    "    DataFrame\n",
    "        Phenotype dataframe with columns ['IID', 'FID', <phenotype>]\n",
    "    '''\n",
    "    pheno_list = []\n",
    "    for fid, iid in scores[['FID', 'IID']].values:\n",
    "        row = phenodata[(phenodata['FID'] == fid) & (phenodata['IID'] == iid)]\n",
    "        # fill in NaN if value is missing\n",
    "        if row.size == 0:\n",
    "            row = pd.DataFrame(data=[['FID', 'IID', np.nan]], \n",
    "                               columns=phenodata.columns)\n",
    "        pheno_list += [row]\n",
    "    return pd.concat(pheno_list, ignore_index=True)"
   ]
  },
  {
   "cell_type": "code",
   "execution_count": null,
   "metadata": {},
   "outputs": [],
   "source": [
    "# Load phenotypes\n",
    "Pheno_file = '/REF/examples/prsice2/EUR.height'\n",
    "pheno = pd.read_csv(Pheno_file, delim_whitespace=True)"
   ]
  },
  {
   "cell_type": "code",
   "execution_count": null,
   "metadata": {},
   "outputs": [],
   "source": [
    "# plink\n",
    "Output_dir = 'PGS_plink'\n",
    "Data_prefix = 'EUR'\n",
    "\n",
    "# scores\n",
    "scores_plink = pd.read_csv(os.path.join(Output_dir, 'test.score'), sep=' ')\n",
    "\n",
    "# extract valids\n",
    "pheno_list = get_pheno_list(pheno, scores_plink)\n",
    "\n",
    "# plot SCORE vs measured HEIGHT\n",
    "plt.plot(scores_plink['score'], pheno_list['Height'], '.')\n",
    "plt.xlabel('$PRS_\\mathrm{Plink}$')\n",
    "plt.ylabel('height')"
   ]
  },
  {
   "cell_type": "code",
   "execution_count": null,
   "metadata": {},
   "outputs": [],
   "source": [
    "# PRSice-2\n",
    "Output_dir = 'PGS_prsice2'\n",
    "Data_prefix = 'EUR'\n",
    "\n",
    "# scores\n",
    "scores_prsice2 = pd.read_csv(os.path.join(Output_dir, 'test.score'), sep=' ')\n",
    "\n",
    "# extract valids\n",
    "pheno_list = get_pheno_list(pheno, scores_prsice2)\n",
    "\n",
    "# plot SCORE vs HEIGHT\n",
    "plt.plot(scores_prsice2['score'], pheno_list['Height'], '.')\n",
    "plt.xlabel('$PRS_\\mathrm{PRSice2}$')\n",
    "plt.ylabel('height')"
   ]
  },
  {
   "cell_type": "code",
   "execution_count": null,
   "metadata": {},
   "outputs": [],
   "source": [
    "# LDpred2 infinitesimal model\n",
    "Output_dir = 'PGS_LDpred2_inf'\n",
    "\n",
    "# scores\n",
    "scores_ldpred2_inf = pd.read_csv(os.path.join(Output_dir, 'test.score'), delim_whitespace=True)\n",
    "\n",
    "# extract valids\n",
    "pheno_list = get_pheno_list(pheno, scores_ldpred2_inf)\n",
    "\n",
    "# plot SCORE vs HEIGHT\n",
    "plt.plot(scores_ldpred2_inf['score'], pheno_list['Height'], '.')\n",
    "plt.xlabel('$PRS_\\mathrm{ldpred2\\_inf}$')\n",
    "plt.ylabel('height')"
   ]
  },
  {
   "cell_type": "code",
   "execution_count": null,
   "metadata": {},
   "outputs": [],
   "source": [
    "# LDpred2 automatic model\n",
    "Output_dir = 'PGS_LDpred2_auto'\n",
    "\n",
    "# scores\n",
    "scores_ldpred2_auto = pd.read_csv(os.path.join(Output_dir, 'test.score'), delim_whitespace=True)\n",
    "\n",
    "# extract valids\n",
    "pheno_list = get_pheno_list(pheno, scores_ldpred2_inf)\n",
    "\n",
    "# plot SCORE vs HEIGHT\n",
    "plt.plot(scores_ldpred2_auto['score'], pheno_list['Height'], '.')\n",
    "plt.xlabel('$PRS_\\mathrm{ldpred2\\_auto}$')\n",
    "plt.ylabel('height')"
   ]
  },
  {
   "cell_type": "code",
   "execution_count": null,
   "metadata": {},
   "outputs": [],
   "source": [
    "# compare scores and distributions\n",
    "all_scores = [scores_plink, scores_prsice2, scores_ldpred2_inf, scores_ldpred2_auto]\n",
    "labels = [r'$PRS_\\mathrm{Plink}$', r'$PRS_\\mathrm{PRSice2}$', \n",
    "          r'$PRS_\\mathrm{LDpred2-inf}$', r'$PRS_\\mathrm{LDpred2-auto}$']\n",
    "\n",
    "fig, axes = plt.subplots(len(all_scores), len(all_scores), figsize=(10, 10), sharex='col')\n",
    "fig.subplots_adjust(wspace=0.4, hspace=0.4)\n",
    "\n",
    "for i in range(len(all_scores)):\n",
    "    y = all_scores[i]['score']\n",
    "    for j in range(len(all_scores)):\n",
    "        x = all_scores[j]['score']\n",
    "        if i < j:\n",
    "            axes[i, j].set_visible(False)\n",
    "        elif i==j:\n",
    "            axes[i, j].hist(x, bins=51)\n",
    "            axes[i, j].set_ylabel('count', labelpad=0)\n",
    "            axes[i, j].set_xlabel(labels[i], labelpad=0)\n",
    "        elif i > j:\n",
    "            sns.kdeplot(x=x, \n",
    "                        y=y,\n",
    "                        ax=axes[i, j])\n",
    "            axes[i, j].plot(x, y, 'C0.', ms=2)\n",
    "            axes[i, j].set_xlabel(labels[j], labelpad=0)\n",
    "            axes[i, j].set_ylabel(labels[i], labelpad=0)\n",
    "            axes[i, j].set_title(f'CC={np.corrcoef(x, y)[1, 0]:.3f}')"
   ]
  },
  {
   "cell_type": "code",
   "execution_count": null,
   "metadata": {},
   "outputs": [],
   "source": [
    "# normalized scores\n",
    "fig, axes = plt.subplots(len(all_scores), len(all_scores), figsize=(10, 10), sharex='col')\n",
    "fig.subplots_adjust(wspace=0.4, hspace=0.4)\n",
    "fig.suptitle(f'normalized scores ($\\mu=0, \\sigma^2=1$)')\n",
    "\n",
    "for i in range(len(all_scores)):\n",
    "    y = ztransform(all_scores[i]['score'])\n",
    "    for j in range(len(all_scores)):\n",
    "        x = ztransform(all_scores[j]['score'])\n",
    "        if i < j:\n",
    "            axes[i, j].set_visible(False)\n",
    "        elif i==j:\n",
    "            axes[i, j].hist(x, bins=51)\n",
    "            axes[i, j].set_ylabel('count', labelpad=0)\n",
    "            axes[i, j].set_xlabel(labels[i], labelpad=0)\n",
    "        elif i > j:\n",
    "            sns.kdeplot(x=x, \n",
    "                        y=y,\n",
    "                        ax=axes[i, j],\n",
    "                        color='gray')\n",
    "            axes[i, j].plot(x, y, 'C0.', ms=2)\n",
    "            axes[i, j].set_xlabel(labels[j], labelpad=0)\n",
    "            axes[i, j].set_ylabel(labels[i], labelpad=0)\n",
    "            axes[i, j].set_title(f'CC={np.corrcoef(x, y)[1, 0]:.3f}')\n",
    "\n",
    "# fig.savefig('vis_pgs_normalized_scores.pdf')"
   ]
  },
  {
   "cell_type": "code",
   "execution_count": null,
   "metadata": {},
   "outputs": [],
   "source": []
  }
 ],
 "metadata": {
  "kernelspec": {
   "display_name": "Python 3 (ipykernel)",
   "language": "python",
   "name": "python3"
  },
  "language_info": {
   "codemirror_mode": {
    "name": "ipython",
    "version": 3
   },
   "file_extension": ".py",
   "mimetype": "text/x-python",
   "name": "python",
   "nbconvert_exporter": "python",
   "pygments_lexer": "ipython3",
   "version": "3.10.6"
  },
  "orig_nbformat": 4,
  "vscode": {
   "interpreter": {
    "hash": "31f2aee4e71d21fbe5cf8b01ff0e069b9275f58929596ceb00d14d90e3e16cd6"
   }
  }
 },
 "nbformat": 4,
 "nbformat_minor": 2
}
