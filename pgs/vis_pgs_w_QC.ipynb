{
 "cells": [
  {
   "cell_type": "markdown",
   "metadata": {},
   "source": [
    "## Compare PGS scores\n",
    "Compare output from the different PGS prediction models."
   ]
  },
  {
   "cell_type": "code",
   "execution_count": null,
   "metadata": {
    "vscode": {
     "languageId": "python"
    }
   },
   "outputs": [],
   "source": [
    "import matplotlib\n",
    "matplotlib.use('nbagg')"
   ]
  },
  {
   "cell_type": "code",
   "execution_count": null,
   "metadata": {
    "vscode": {
     "languageId": "python"
    }
   },
   "outputs": [],
   "source": [
    "%matplotlib inline"
   ]
  },
  {
   "cell_type": "code",
   "execution_count": null,
   "metadata": {
    "vscode": {
     "languageId": "python"
    }
   },
   "outputs": [],
   "source": [
    "import os\n",
    "import matplotlib.pyplot as plt\n",
    "import numpy as np\n",
    "import pandas as pd\n",
    "import seaborn as sns"
   ]
  },
  {
   "cell_type": "code",
   "execution_count": null,
   "metadata": {
    "vscode": {
     "languageId": "python"
    }
   },
   "outputs": [],
   "source": [
    "matplotlib.rc_file_defaults()"
   ]
  },
  {
   "cell_type": "code",
   "execution_count": null,
   "metadata": {
    "vscode": {
     "languageId": "python"
    }
   },
   "outputs": [],
   "source": [
    "def ztransform(x):\n",
    "    '''\n",
    "    Return input normalized to zero mean and unit variance\n",
    "    \n",
    "    Parameters\n",
    "    ----------\n",
    "    x: ndarray\n",
    "    \n",
    "    Returns\n",
    "    -------\n",
    "    ndarray\n",
    "    '''\n",
    "    return (x - x.mean()) / x.std()"
   ]
  },
  {
   "cell_type": "code",
   "execution_count": null,
   "metadata": {
    "vscode": {
     "languageId": "python"
    }
   },
   "outputs": [],
   "source": [
    "# make some guesses where reference data is located in relation to host\n",
    "if os.path.isdir('/REF'):  # mounted dir on container\n",
    "    REF = '/REF'\n",
    "elif 'REFERENCE' in os.environ:\n",
    "    REF = os.environ['REFERENCE']\n",
    "else:\n",
    "    REF = os.path.join('..', 'reference')"
   ]
  },
  {
   "cell_type": "code",
   "execution_count": null,
   "metadata": {
    "vscode": {
     "languageId": "python"
    }
   },
   "outputs": [],
   "source": [
    "# Load phenotypes\n",
    "Pheno_file = os.path.join(REF, 'examples/prsice2/EUR.height')\n",
    "pheno = pd.read_csv(Pheno_file, delim_whitespace=True)\n",
    "pheno_type = pheno.columns[2]"
   ]
  },
  {
   "cell_type": "code",
   "execution_count": null,
   "metadata": {
    "vscode": {
     "languageId": "python"
    }
   },
   "outputs": [],
   "source": [
    "# plink\n",
    "Output_dir = os.path.join('results', 'PGS_plink')\n",
    "Data_prefix = 'EUR'\n",
    "\n",
    "# scores\n",
    "scores_plink = pd.read_csv(os.path.join(Output_dir, 'test.score'), sep=' ')\n",
    "metrics_plink = pd.read_csv(os.path.join(Output_dir, 'test_summary.csv'), sep=' ')\n",
    "\n",
    "# merge phenotype and score dataframes\n",
    "pheno_scores_plink = pd.merge(pheno, scores_plink, on=[\"FID\", \"IID\"])\n",
    "\n",
    "# plot SCORE vs measured HEIGHT\n",
    "plt.plot(pheno_scores_plink['score'], pheno_scores_plink[pheno_type], '.')\n",
    "plt.xlabel('$PGS_\\mathrm{Plink}$')\n",
    "plt.ylabel(pheno_type)"
   ]
  },
  {
   "cell_type": "code",
   "execution_count": null,
   "metadata": {
    "vscode": {
     "languageId": "python"
    }
   },
   "outputs": [],
   "source": [
    "# PRSice-2\n",
    "Output_dir = os.path.join('results', 'PGS_prsice2')\n",
    "Data_prefix = 'EUR'\n",
    "\n",
    "# scores\n",
    "scores_prsice2 = pd.read_csv(os.path.join(Output_dir, 'test.score'), sep=' ')\n",
    "metrics_prsice2 = pd.read_csv(os.path.join(Output_dir, 'test_summary.csv'), sep=' ')\n",
    "\n",
    "# merge phenotype and score dataframes\n",
    "pheno_scores_prsice2 = pd.merge(pheno, scores_prsice2, on=[\"FID\", \"IID\"])\n",
    "\n",
    "# plot SCORE vs HEIGHT\n",
    "plt.plot(pheno_scores_prsice2['score'], pheno_scores_prsice2[pheno_type], '.')\n",
    "plt.xlabel('$PGS_\\mathrm{PRSice2}$')\n",
    "plt.ylabel(pheno_type)"
   ]
  },
  {
   "cell_type": "code",
   "execution_count": null,
   "metadata": {
    "vscode": {
     "languageId": "python"
    }
   },
   "outputs": [],
   "source": [
    "# LDpred2 infinitesimal model\n",
    "Output_dir = os.path.join('results', 'PGS_LDpred2_inf')\n",
    "\n",
    "# scores\n",
    "pheno_scores_ldpred2_inf = pd.read_csv(os.path.join(Output_dir, 'test.score'), delim_whitespace=True)\n",
    "metrics_ldpred2_inf = pd.read_csv(os.path.join(Output_dir, 'test_summary.csv'), sep=' ')\n",
    "\n",
    "# merge phenotype and score dataframes\n",
    "# pheno_scores_ldpred2_inf = pd.merge(pheno, scores_ldpred2_inf, on=[\"FID\", \"IID\"], suffixes=[None, '_y'])\n",
    "\n",
    "# plot SCORE vs HEIGHT\n",
    "plt.plot(pheno_scores_ldpred2_inf['score'], pheno_scores_ldpred2_inf[pheno_type], '.')\n",
    "plt.xlabel('$PGS_\\mathrm{ldpred2\\_inf}$')\n",
    "plt.ylabel(pheno_type)"
   ]
  },
  {
   "cell_type": "code",
   "execution_count": null,
   "metadata": {
    "vscode": {
     "languageId": "python"
    }
   },
   "outputs": [],
   "source": [
    "# LDpred2 automatic model\n",
    "Output_dir = os.path.join('results', 'PGS_LDpred2_auto')\n",
    "\n",
    "# scores\n",
    "pheno_scores_ldpred2_auto = pd.read_csv(os.path.join(Output_dir, 'test.score'), delim_whitespace=True)\n",
    "metrics_ldpred2_auto = pd.read_csv(os.path.join(Output_dir, 'test_summary.csv'), sep=' ')\n",
    "\n",
    "# merge phenotype and score dataframes\n",
    "# pheno_scores_ldpred2_auto = pd.merge(pheno, scores_ldpred2_auto, on=[\"FID\", \"IID\"], suffixes=[None])\n",
    "\n",
    "# plot SCORE vs HEIGHT\n",
    "plt.plot(pheno_scores_ldpred2_auto['score'], pheno_scores_ldpred2_auto[pheno_type], '.')\n",
    "plt.xlabel('$PGS_\\mathrm{ldpred2\\_auto}$')\n",
    "plt.ylabel(pheno_type)"
   ]
  },
  {
   "cell_type": "code",
   "execution_count": null,
   "metadata": {
    "vscode": {
     "languageId": "python"
    }
   },
   "outputs": [],
   "source": [
    "# compare scores and distributions\n",
    "all_scores = [\n",
    "    pheno_scores_plink, \n",
    "    pheno_scores_prsice2, \n",
    "    pheno_scores_ldpred2_inf, \n",
    "    pheno_scores_ldpred2_auto\n",
    "    ]\n",
    "all_metrics = [\n",
    "    metrics_plink,\n",
    "    metrics_prsice2,\n",
    "    metrics_ldpred2_inf,\n",
    "    metrics_ldpred2_auto\n",
    "]\n",
    "labels = [\n",
    "    r'$PGS_\\mathrm{Plink}$',\n",
    "    r'$PGS_\\mathrm{PRSice2}$', \n",
    "    r'$PGS_\\mathrm{LDpred2-inf}$', \n",
    "    r'$PGS_\\mathrm{LDpred2-auto}$'\n",
    "    ]\n",
    "\n",
    "fig, axes = plt.subplots(len(all_scores) + 1, len(all_scores), figsize=(12, 10), sharex='col')\n",
    "fig.subplots_adjust(wspace=0.4, hspace=0.4)\n",
    "\n",
    "for i in range(len(all_scores)):\n",
    "    y = all_scores[i]['score']\n",
    "    for j in range(len(all_scores)):\n",
    "        x = all_scores[j]['score']\n",
    "        if i < j:\n",
    "            axes[i, j].set_visible(False)\n",
    "        elif i==j:\n",
    "            axes[i, j].hist(x, bins=51)\n",
    "            axes[i, j].set_ylabel('count', labelpad=0)\n",
    "        elif i > j:\n",
    "            sns.kdeplot(x=x, \n",
    "                        y=y,\n",
    "                        ax=axes[i, j],\n",
    "                        color='gray')\n",
    "            axes[i, j].plot(x, y, 'C0.', ms=2)\n",
    "            axes[i, j].set_ylabel(labels[i], labelpad=0)\n",
    "            axes[i, j].set_title(f'CC={np.corrcoef(x, y)[1, 0]:.3f}')\n",
    "\n",
    "# phenotype vs. PGS\n",
    "for j in range(len(all_scores)):\n",
    "    ax = axes[-1, j]\n",
    "    x = all_scores[j]['score']\n",
    "    y = all_scores[j][pheno_type]\n",
    "    sns.kdeplot(x=x, \n",
    "                y=y,\n",
    "                ax=ax,\n",
    "                color='gray')\n",
    "    ax.plot(x, y, '.', ms=2)\n",
    "    ax.set_xlabel(labels[j], labelpad=0)\n",
    "    ax.set_ylabel(pheno_type)\n",
    "    title = '\\n'.join([\n",
    "        # f'CC={np.corrcoef(x, y)[1, 0]:.3f}',\n",
    "        f'$\\mathrm{{LM}}_{{R^2}}$={all_metrics[j][\"r.squared\"].to_numpy()[0]:.3f}'\n",
    "    ])\n",
    "    ax.set_title(title)"
   ]
  },
  {
   "cell_type": "code",
   "execution_count": null,
   "metadata": {
    "vscode": {
     "languageId": "python"
    }
   },
   "outputs": [],
   "source": [
    "# normalized scores\n",
    "fig, axes = plt.subplots(len(all_scores) + 1, len(all_scores), figsize=(12, 10), sharex='col')\n",
    "fig.subplots_adjust(wspace=0.4, hspace=0.4)\n",
    "fig.suptitle(f'normalized scores ($\\mu=0, \\sigma^2=1$)')\n",
    "\n",
    "for i in range(len(all_scores)):\n",
    "    y = ztransform(all_scores[i]['score'])\n",
    "    for j in range(len(all_scores)):\n",
    "        x = ztransform(all_scores[j]['score'])\n",
    "        if i < j:\n",
    "            axes[i, j].set_visible(False)\n",
    "        elif i==j:\n",
    "            axes[i, j].hist(x, bins=51)\n",
    "            axes[i, j].set_ylabel('count', labelpad=0)\n",
    "        elif i > j:\n",
    "            sns.kdeplot(x=x, \n",
    "                        y=y,\n",
    "                        ax=axes[i, j],\n",
    "                        color='gray')\n",
    "            axes[i, j].plot(x, y, 'C0.', ms=2)\n",
    "            axes[i, j].set_ylabel(labels[i], labelpad=0)\n",
    "            axes[i, j].set_title(f'CC={np.corrcoef(x, y)[1, 0]:.3f}')\n",
    "\n",
    "# height vs. PGS\n",
    "for j in range(len(all_scores)):\n",
    "    ax = axes[-1, j]\n",
    "    x = ztransform(all_scores[j]['score'])\n",
    "    y = ztransform(all_scores[j][pheno_type])\n",
    "    sns.kdeplot(x=x, \n",
    "                y=y,\n",
    "                ax=ax,\n",
    "                color='gray')\n",
    "    ax.plot(x, y, '.', ms=2)\n",
    "    ax.set_xlabel(labels[j], labelpad=0)\n",
    "    ax.set_ylabel(pheno_type)\n",
    "    title = '\\n'.join([\n",
    "        #f'CC={np.corrcoef(x, y)[1, 0]:.3f}',\n",
    "        f'$\\mathrm{{LM}}_{{R^2}}$={all_metrics[j][\"r.squared\"].to_numpy()[0]:.3f}'\n",
    "    ])\n",
    "    ax.set_title(title)"
   ]
  },
  {
   "cell_type": "code",
   "execution_count": null,
   "metadata": {
    "vscode": {
     "languageId": "python"
    }
   },
   "outputs": [],
   "source": []
  }
 ],
 "metadata": {
  "kernelspec": {
   "display_name": "Python 3 (ipykernel)",
   "language": "python",
   "name": "python3"
  },
  "vscode": {
   "interpreter": {
    "hash": "31f2aee4e71d21fbe5cf8b01ff0e069b9275f58929596ceb00d14d90e3e16cd6"
   }
  }
 },
 "nbformat": 4,
 "nbformat_minor": 2
}
